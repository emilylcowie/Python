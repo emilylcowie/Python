{
 "cells": [
  {
   "cell_type": "code",
   "execution_count": 1,
   "id": "9515d58a",
   "metadata": {},
   "outputs": [],
   "source": [
    "import pandas as pd\n",
    "import numpy as np\n",
    "import matplotlib.pyplot as plt\n",
    "import seaborn as sns"
   ]
  },
  {
   "cell_type": "code",
   "execution_count": 46,
   "id": "85a9877d",
   "metadata": {},
   "outputs": [],
   "source": [
    "netflix_data = pd.read_csv('datasets/netflix-report/CONTENT_INTERACTION/ViewingActivity.csv', encoding='ISO-8859-1', index_col=0)"
   ]
  },
  {
   "cell_type": "code",
   "execution_count": 47,
   "id": "c8125830",
   "metadata": {},
   "outputs": [],
   "source": [
    "netflix_emily = netflix_data.drop(['Marcus',\n",
    "                                  'Coco',\n",
    "                                  'Ð¤Ð¹Ð¶',\n",
    "                                  'Nicola',])"
   ]
  },
  {
   "cell_type": "code",
   "execution_count": 48,
   "id": "4f1af037",
   "metadata": {},
   "outputs": [],
   "source": [
    "emily_times = netflix_emily.drop(['Attributes', 'Device Type', 'Country', 'Bookmark', 'Latest Bookmark', \n",
    "                                      'Supplemental Video Type'], axis=1)"
   ]
  },
  {
   "cell_type": "code",
   "execution_count": 49,
   "id": "8613b969",
   "metadata": {},
   "outputs": [],
   "source": [
    "emily_times['Start Time'] = pd.to_datetime(emily_times['Start Time'], utc = True)"
   ]
  },
  {
   "cell_type": "code",
   "execution_count": 53,
   "id": "611d0dc1",
   "metadata": {},
   "outputs": [
    {
     "data": {
      "text/html": [
       "<div>\n",
       "<style scoped>\n",
       "    .dataframe tbody tr th:only-of-type {\n",
       "        vertical-align: middle;\n",
       "    }\n",
       "\n",
       "    .dataframe tbody tr th {\n",
       "        vertical-align: top;\n",
       "    }\n",
       "\n",
       "    .dataframe thead th {\n",
       "        text-align: right;\n",
       "    }\n",
       "</style>\n",
       "<table border=\"1\" class=\"dataframe\">\n",
       "  <thead>\n",
       "    <tr style=\"text-align: right;\">\n",
       "      <th></th>\n",
       "      <th>Duration</th>\n",
       "      <th>Title</th>\n",
       "    </tr>\n",
       "    <tr>\n",
       "      <th>Start Time</th>\n",
       "      <th></th>\n",
       "      <th></th>\n",
       "    </tr>\n",
       "  </thead>\n",
       "  <tbody>\n",
       "    <tr>\n",
       "      <th>2023-08-26 23:36:50+01:00</th>\n",
       "      <td>00:11:15</td>\n",
       "      <td>Killing Eve: Season 2: The Hungry Caterpillar ...</td>\n",
       "    </tr>\n",
       "    <tr>\n",
       "      <th>2023-08-26 23:04:30+01:00</th>\n",
       "      <td>00:26:11</td>\n",
       "      <td>Killing Eve: Season 2: The Hungry Caterpillar ...</td>\n",
       "    </tr>\n",
       "    <tr>\n",
       "      <th>2023-08-26 22:24:08+01:00</th>\n",
       "      <td>00:40:03</td>\n",
       "      <td>Killing Eve: Season 2: Nice and Neat (Episode 2)</td>\n",
       "    </tr>\n",
       "    <tr>\n",
       "      <th>2023-08-25 23:55:06+01:00</th>\n",
       "      <td>00:00:01</td>\n",
       "      <td>Skins: Vol. 1: Tony (Episode 1)</td>\n",
       "    </tr>\n",
       "    <tr>\n",
       "      <th>2023-08-25 23:12:01+01:00</th>\n",
       "      <td>00:39:26</td>\n",
       "      <td>Killing Eve: Season 2: Do You Know How to Disp...</td>\n",
       "    </tr>\n",
       "    <tr>\n",
       "      <th>...</th>\n",
       "      <td>...</td>\n",
       "      <td>...</td>\n",
       "    </tr>\n",
       "    <tr>\n",
       "      <th>2017-07-24 13:18:12+01:00</th>\n",
       "      <td>00:00:03</td>\n",
       "      <td>The Haunted Hathaways: Season 1: Pilot (Episod...</td>\n",
       "    </tr>\n",
       "    <tr>\n",
       "      <th>2017-07-24 12:52:05+01:00</th>\n",
       "      <td>00:23:27</td>\n",
       "      <td>Full House: Season 6: Please Don't Touch The D...</td>\n",
       "    </tr>\n",
       "    <tr>\n",
       "      <th>2017-07-24 08:54:43+01:00</th>\n",
       "      <td>00:23:00</td>\n",
       "      <td>Full House: Season 7: The Apartment (Episode 2)</td>\n",
       "    </tr>\n",
       "    <tr>\n",
       "      <th>2017-07-24 08:31:01+01:00</th>\n",
       "      <td>00:22:44</td>\n",
       "      <td>Full House: Season 8: Leap Of Faith (Episode 21)</td>\n",
       "    </tr>\n",
       "    <tr>\n",
       "      <th>2017-07-24 08:07:15+01:00</th>\n",
       "      <td>00:22:56</td>\n",
       "      <td>Full House: Season 1: Our Very First Show (Epi...</td>\n",
       "    </tr>\n",
       "  </tbody>\n",
       "</table>\n",
       "<p>5170 rows × 2 columns</p>\n",
       "</div>"
      ],
      "text/plain": [
       "                           Duration  \\\n",
       "Start Time                            \n",
       "2023-08-26 23:36:50+01:00  00:11:15   \n",
       "2023-08-26 23:04:30+01:00  00:26:11   \n",
       "2023-08-26 22:24:08+01:00  00:40:03   \n",
       "2023-08-25 23:55:06+01:00  00:00:01   \n",
       "2023-08-25 23:12:01+01:00  00:39:26   \n",
       "...                             ...   \n",
       "2017-07-24 13:18:12+01:00  00:00:03   \n",
       "2017-07-24 12:52:05+01:00  00:23:27   \n",
       "2017-07-24 08:54:43+01:00  00:23:00   \n",
       "2017-07-24 08:31:01+01:00  00:22:44   \n",
       "2017-07-24 08:07:15+01:00  00:22:56   \n",
       "\n",
       "                                                                       Title  \n",
       "Start Time                                                                    \n",
       "2023-08-26 23:36:50+01:00  Killing Eve: Season 2: The Hungry Caterpillar ...  \n",
       "2023-08-26 23:04:30+01:00  Killing Eve: Season 2: The Hungry Caterpillar ...  \n",
       "2023-08-26 22:24:08+01:00   Killing Eve: Season 2: Nice and Neat (Episode 2)  \n",
       "2023-08-25 23:55:06+01:00                    Skins: Vol. 1: Tony (Episode 1)  \n",
       "2023-08-25 23:12:01+01:00  Killing Eve: Season 2: Do You Know How to Disp...  \n",
       "...                                                                      ...  \n",
       "2017-07-24 13:18:12+01:00  The Haunted Hathaways: Season 1: Pilot (Episod...  \n",
       "2017-07-24 12:52:05+01:00  Full House: Season 6: Please Don't Touch The D...  \n",
       "2017-07-24 08:54:43+01:00    Full House: Season 7: The Apartment (Episode 2)  \n",
       "2017-07-24 08:31:01+01:00   Full House: Season 8: Leap Of Faith (Episode 21)  \n",
       "2017-07-24 08:07:15+01:00  Full House: Season 1: Our Very First Show (Epi...  \n",
       "\n",
       "[5170 rows x 2 columns]"
      ]
     },
     "execution_count": 53,
     "metadata": {},
     "output_type": "execute_result"
    }
   ],
   "source": [
    "emily_times"
   ]
  },
  {
   "cell_type": "code",
   "execution_count": 52,
   "id": "bf69b9a9",
   "metadata": {},
   "outputs": [
    {
     "ename": "KeyError",
     "evalue": "\"None of ['Start Time'] are in the columns\"",
     "output_type": "error",
     "traceback": [
      "\u001b[1;31m---------------------------------------------------------------------------\u001b[0m",
      "\u001b[1;31mKeyError\u001b[0m                                  Traceback (most recent call last)",
      "Cell \u001b[1;32mIn[52], line 1\u001b[0m\n\u001b[1;32m----> 1\u001b[0m emily_times \u001b[38;5;241m=\u001b[39m emily_times\u001b[38;5;241m.\u001b[39mset_index(\u001b[38;5;124m'\u001b[39m\u001b[38;5;124mStart Time\u001b[39m\u001b[38;5;124m'\u001b[39m)\n\u001b[0;32m      2\u001b[0m emily_times\u001b[38;5;241m.\u001b[39mindex \u001b[38;5;241m=\u001b[39m emily_times\u001b[38;5;241m.\u001b[39mindex\u001b[38;5;241m.\u001b[39mtz_convert(\u001b[38;5;124m'\u001b[39m\u001b[38;5;124mEurope/London\u001b[39m\u001b[38;5;124m'\u001b[39m)\n\u001b[0;32m      3\u001b[0m emily_times \u001b[38;5;241m=\u001b[39m emily_times\u001b[38;5;241m.\u001b[39mreset_index()\n",
      "File \u001b[1;32m~\\anaconda3\\Lib\\site-packages\\pandas\\util\\_decorators.py:331\u001b[0m, in \u001b[0;36mdeprecate_nonkeyword_arguments.<locals>.decorate.<locals>.wrapper\u001b[1;34m(*args, **kwargs)\u001b[0m\n\u001b[0;32m    325\u001b[0m \u001b[38;5;28;01mif\u001b[39;00m \u001b[38;5;28mlen\u001b[39m(args) \u001b[38;5;241m>\u001b[39m num_allow_args:\n\u001b[0;32m    326\u001b[0m     warnings\u001b[38;5;241m.\u001b[39mwarn(\n\u001b[0;32m    327\u001b[0m         msg\u001b[38;5;241m.\u001b[39mformat(arguments\u001b[38;5;241m=\u001b[39m_format_argument_list(allow_args)),\n\u001b[0;32m    328\u001b[0m         \u001b[38;5;167;01mFutureWarning\u001b[39;00m,\n\u001b[0;32m    329\u001b[0m         stacklevel\u001b[38;5;241m=\u001b[39mfind_stack_level(),\n\u001b[0;32m    330\u001b[0m     )\n\u001b[1;32m--> 331\u001b[0m \u001b[38;5;28;01mreturn\u001b[39;00m func(\u001b[38;5;241m*\u001b[39margs, \u001b[38;5;241m*\u001b[39m\u001b[38;5;241m*\u001b[39mkwargs)\n",
      "File \u001b[1;32m~\\anaconda3\\Lib\\site-packages\\pandas\\core\\frame.py:6012\u001b[0m, in \u001b[0;36mDataFrame.set_index\u001b[1;34m(self, keys, drop, append, inplace, verify_integrity)\u001b[0m\n\u001b[0;32m   6009\u001b[0m                 missing\u001b[38;5;241m.\u001b[39mappend(col)\n\u001b[0;32m   6011\u001b[0m \u001b[38;5;28;01mif\u001b[39;00m missing:\n\u001b[1;32m-> 6012\u001b[0m     \u001b[38;5;28;01mraise\u001b[39;00m \u001b[38;5;167;01mKeyError\u001b[39;00m(\u001b[38;5;124mf\u001b[39m\u001b[38;5;124m\"\u001b[39m\u001b[38;5;124mNone of \u001b[39m\u001b[38;5;132;01m{\u001b[39;00mmissing\u001b[38;5;132;01m}\u001b[39;00m\u001b[38;5;124m are in the columns\u001b[39m\u001b[38;5;124m\"\u001b[39m)\n\u001b[0;32m   6014\u001b[0m \u001b[38;5;28;01mif\u001b[39;00m inplace:\n\u001b[0;32m   6015\u001b[0m     frame \u001b[38;5;241m=\u001b[39m \u001b[38;5;28mself\u001b[39m\n",
      "\u001b[1;31mKeyError\u001b[0m: \"None of ['Start Time'] are in the columns\""
     ]
    }
   ],
   "source": [
    "emily_times = emily_times.set_index('Start Time')\n",
    "emily_times.index = emily_times.index.tz_convert('Europe/London')\n",
    "emily_times = emily_times.reset_index()"
   ]
  },
  {
   "cell_type": "code",
   "execution_count": 16,
   "id": "4ed3c128",
   "metadata": {},
   "outputs": [],
   "source": [
    "netflix_emily['Duration'] = pd.to_timedelta(netflix_emily['Duration'])\n",
    "netflix_emily['Duration'].sum()"
   ]
  },
  {
   "cell_type": "code",
   "execution_count": 18,
   "id": "85f05590",
   "metadata": {},
   "outputs": [],
   "source": [
    "friends = netflix_emily[netflix_emily['Title'].str.contains('Friends', regex = False)]\n",
    "friends['Duration'].sum()"
   ]
  }
 ],
 "metadata": {
  "kernelspec": {
   "display_name": "Python 3 (ipykernel)",
   "language": "python",
   "name": "python3"
  },
  "language_info": {
   "codemirror_mode": {
    "name": "ipython",
    "version": 3
   },
   "file_extension": ".py",
   "mimetype": "text/x-python",
   "name": "python",
   "nbconvert_exporter": "python",
   "pygments_lexer": "ipython3",
   "version": "3.11.4"
  }
 },
 "nbformat": 4,
 "nbformat_minor": 5
}
